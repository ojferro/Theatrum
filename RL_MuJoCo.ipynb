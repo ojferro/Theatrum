{
  "cells": [
    {
      "cell_type": "code",
      "execution_count": 1,
      "metadata": {
        "colab": {
          "base_uri": "https://localhost:8080/"
        },
        "collapsed": true,
        "id": "TH3WoQrmt8Dq",
        "outputId": "f43e6524-fcfa-421c-990b-edea99945ca9"
      },
      "outputs": [],
      "source": [
        "# !pip install mujoco > /dev/null"
      ]
    },
    {
      "cell_type": "code",
      "execution_count": 4,
      "metadata": {
        "collapsed": true,
        "id": "bZD6pLKcuA2z"
      },
      "outputs": [
        {
          "name": "stderr",
          "output_type": "stream",
          "text": [
            "UsageError: Line magic function `%` not found.\n"
          ]
        }
      ],
      "source": [
        "# ! pip install stable-baselines3[extra]"
      ]
    },
    {
      "cell_type": "code",
      "execution_count": 1,
      "metadata": {
        "colab": {
          "base_uri": "https://localhost:8080/"
        },
        "id": "qj28lEX9NOuT",
        "outputId": "90c74488-0269-46e4-9bff-e61159e94cc3"
      },
      "outputs": [],
      "source": [
        "# Set up GPU rendering.\n",
        "# import os\n",
        "# import subprocess\n",
        "# if subprocess.run('nvidia-smi').returncode:\n",
        "#   raise RuntimeError(\n",
        "#       'Cannot communicate with GPU. '\n",
        "#       'Make sure you are using a GPU Colab runtime. '\n",
        "#       'Go to the Runtime menu and select Choose runtime type.')\n",
        "\n",
        "# Add an ICD config so that glvnd can pick up the Nvidia EGL driver.\n",
        "# This is usually installed as part of an Nvidia driver package, but the Colab\n",
        "# kernel doesn't install its driver via APT, and as a result the ICD is missing.\n",
        "# (https://github.com/NVIDIA/libglvnd/blob/master/src/EGL/icd_enumeration.md)\n",
        "# NVIDIA_ICD_CONFIG_PATH = '/usr/share/glvnd/egl_vendor.d/10_nvidia.json'\n",
        "# if not os.path.exists(NVIDIA_ICD_CONFIG_PATH):\n",
        "#   with open(NVIDIA_ICD_CONFIG_PATH, 'w') as f:\n",
        "#     f.write(\"\"\"{\n",
        "#     \"file_format_version\" : \"1.0.0\",\n",
        "#     \"ICD\" : {\n",
        "#         \"library_path\" : \"libEGL_nvidia.so.0\"\n",
        "#     }\n",
        "# }\n",
        "# \"\"\")\n",
        "\n",
        "# print('Setting environment variable to use GPU rendering:')\n",
        "# %env MUJOCO_GL=egl"
      ]
    },
    {
      "cell_type": "code",
      "execution_count": 2,
      "metadata": {
        "colab": {
          "base_uri": "https://localhost:8080/"
        },
        "id": "SR4Cuqm8NmaA",
        "outputId": "4ee2f201-c40e-431c-8f2c-e73259e83c89"
      },
      "outputs": [],
      "source": [
        "import mujoco\n",
        "\n",
        "# print('Installing mediapy:')\n",
        "# !command -v ffmpeg >/dev/null || (apt update && apt install -y ffmpeg)\n",
        "# !pip install -q mediapy\n",
        "import mediapy as media"
      ]
    },
    {
      "cell_type": "code",
      "execution_count": 3,
      "metadata": {
        "id": "WF0yeCSAth68"
      },
      "outputs": [],
      "source": [
        "model_xml = '''\n",
        "<mujoco>\n",
        "  <!-- This file specifies things in degrees. The code/simulator uses radians -->\n",
        "  <compiler autolimits=\"true\" angle=\"degree\"/>\n",
        "\n",
        "  <asset>\n",
        "    <texture name=\"grid\" type=\"2d\" builtin=\"checker\" width=\"512\" height=\"512\" rgb1=\".1 .2 .3\" rgb2=\".2 .3 .4\"/>\n",
        "    <material name=\"grid\" texture=\"grid\" texrepeat=\"1 1\" texuniform=\"true\" reflectance=\".05\"/>\n",
        "    <mesh name=\"chasis\" scale=\".01 .006 .0015\"\n",
        "      vertex=\" 9   2   0\n",
        "              -10  10  10\n",
        "               9  -2   0\n",
        "               10  3  -10\n",
        "               10 -3  -10\n",
        "              -8   10 -10\n",
        "              -10 -10  10\n",
        "              -8  -10 -10\n",
        "              -5   0   20\"/>\n",
        "  </asset>\n",
        "\n",
        "  <asset>\n",
        "    <mesh file=\"Basis_m.stl\"/>\n",
        "    <!-- <mesh file=\"ODrive_m.stl\"/> -->\n",
        "    <!-- <mesh file=\"Nucleo_m.stl\"/> -->\n",
        "    <!-- <mesh file=\"Battery_m.stl\"/> -->\n",
        "  </asset>\n",
        "\n",
        "  <visual>\n",
        "    <headlight ambient=\"0.5 0.5 0.5\" />\n",
        "\n",
        "    <!-- <headlight diffuse=\".1 .1 .1\" /> -->\n",
        "    <!-- <headlight specular=\".1 .1 .1\"/> -->\n",
        "  </visual>\n",
        "\n",
        "  <option timestep=\"0.001\" integrator=\"RK4\"/>\n",
        "\n",
        "  <default>\n",
        "    <geom rgba=\"1. 1. 1. 1.\"/>\n",
        "    <!-- <joint damping=\"0.01\"/> -->\n",
        "    <default class=\"wheel\">\n",
        "      <geom type=\"cylinder\" size=\".03 .01\"/>\n",
        "    </default>\n",
        "    <default class=\"decor\">\n",
        "      <site type=\"box\"/>\n",
        "    </default>\n",
        "  </default>\n",
        "\n",
        "  <worldbody>\n",
        "    <geom type=\"plane\" size=\"50 50 .01\" material=\"grid\"/>\n",
        "    <body name=\"pendulum\" pos=\"0 0 0\" euler=\"0 0 0\">\n",
        "\n",
        "        <freejoint/>\n",
        "\n",
        "        <!-- <geom name=\"bodygeom\" type=\"box\" pos=\"0 0 0.25\" size=\".05 .05 .05\" mass=\"1.5\" rgba=\"0.9 0.9 0.9 0.1\"/> -->\n",
        "\n",
        "        <site name=\"wheelbase\" pos=\"0 0 0\"/>\n",
        "        <camera name=\"tracking_cam\" pos=\"0 -1.0 0.6\" xyaxes=\"1 0 0 0 1 2\" mode=\"track\"/>\n",
        "        <geom name=\"CoMViz\" type=\"box\" pos=\"-0.0055 0 0.24\" size=\".001 .001 .001\" mass=\"0.0001\" rgba=\"0.0 1.0 0.0 1.0\"/>\n",
        "\n",
        "        <site name=\"accel_site\" pos=\"0 0 0.37\"/>\n",
        "        <geom name=\"accel\" type=\"box\" pos=\"0 0 0.37\" size=\".01 .01 .01\" mass=\"0\" rgba=\"0.0 1.0 0.0 1.0\"/>\n",
        "\n",
        "        <body name=\"leftwheel\" pos=\".0 .06 0\" zaxis=\"0 1 0\">\n",
        "            <joint name=\"left\"/>\n",
        "            <geom class=\"wheel\" mass=\"0.150\"/>\n",
        "            <site class=\"decor\" size=\".006 .025 .012\"/>\n",
        "            <site class=\"decor\" size=\".025 .006 .012\"/>\n",
        "        </body>\n",
        "\n",
        "        <body name=\"rightwheel\" pos=\".0 -.06 0\" zaxis=\"0 1 0\">\n",
        "            <joint name=\"right\"/>\n",
        "            <site name=\"torque_sensor_mnt\" pos=\"0 0 0\"/>\n",
        "            <geom class=\"wheel\" mass=\"0.150\"/>\n",
        "            <site class=\"decor\" size=\".006 .025 .012\"/>\n",
        "            <site class=\"decor\" size=\".025 .006 .012\"/>\n",
        "        </body>\n",
        "\n",
        "        <body name=\"beam\" pos=\"0 0 0.25\">\n",
        "            <!-- <geom name=\"rod\" type=\"cylinder\" pos=\"0 0 -0.125\" size=\".01 .125\" mass=\"0.3\" rgba =\"0.9 0.9 0.9 0.1\"/> -->\n",
        "            <!-- <geom name=\"body\" type=\"sphere\" pos=\"0 0 0.02\" size=\"0.05 0.05 0.05\" mass=\"0.8\" rgba =\"0.9 0.9 0.9 0.1\"/> -->\n",
        "            <geom type=\"mesh\" mesh=\"Basis_m\" pos=\"0 0 0.033\" size=\"0.01 0.01 0.01\" euler=\"90 90 0\" mass=\"0.810\"/>\n",
        "            <!-- <geom type=\"mesh\" mesh=\"Nucleo_m\" pos=\"-0.05 0 0.11\" size=\"0.01 0.01 0.01\" euler=\"90 180 0\" mass=\"0.50\"/> -->\n",
        "            <!-- <geom type=\"mesh\" mesh=\"ODrive_m\" pos=\"0.04 -0.07 0.01\" size=\"0.01 0.01 0.01\" euler=\"0 0 90\" mass=\"0.120\"/> -->\n",
        "            <!-- <geom type=\"mesh\" mesh=\"Battery_m\" pos=\"0 0 0.033\" size=\"0.01 0.01 0.01\" euler=\"90 90 0\" mass=\"0.810\"/> -->\n",
        "        </body>\n",
        "\n",
        "    </body>\n",
        "  </worldbody>\n",
        "\n",
        "  <actuator>\n",
        "    <motor name=\"forward_left\" joint=\"left\" gear=\"1\"/>\n",
        "    <motor name=\"forward_right\" joint=\"right\" gear=\"1\"/>\n",
        "  </actuator>\n",
        "\n",
        "  <sensor>\n",
        "    <accelerometer name=\"accelerometer\" site=\"accel_site\" noise=\"0.0\"/>\n",
        "    <gyro name=\"gyro\" site=\"accel_site\" noise=\"0.0\"/>\n",
        "    <framequat name=\"angle_sensor\" objtype=\"site\" objname=\"wheelbase\"/>\n",
        "    <framepos name=\"base_position\" objtype=\"site\" objname=\"wheelbase\"/>\n",
        "    <framelinvel name=\"base_velocity\" objtype=\"site\" objname=\"wheelbase\"/>\n",
        "    <frameangvel name=\"base_ang_velocity\" objtype=\"site\" objname=\"wheelbase\"/>\n",
        "    <torque name=\"wheel_torque\" site=\"torque_sensor_mnt\"/>\n",
        "    <jointvel name=\"wheel_vel\" joint=\"right\"/>\n",
        "    <jointpos name=\"wheel_pos\" joint=\"right\"/>\n",
        "  </sensor>\n",
        "</mujoco>\n",
        "'''"
      ]
    },
    {
      "cell_type": "code",
      "execution_count": 4,
      "metadata": {
        "id": "lRfB5t1NuY4C"
      },
      "outputs": [],
      "source": [
        "m = mujoco.MjModel.from_xml_string(model_xml)\n",
        "d = mujoco.MjData(m)"
      ]
    },
    {
      "cell_type": "code",
      "execution_count": 5,
      "metadata": {
        "id": "7VXTBzgDvGcQ"
      },
      "outputs": [],
      "source": [
        "mujoco.mj_step(m, d)"
      ]
    },
    {
      "cell_type": "code",
      "execution_count": 6,
      "metadata": {
        "colab": {
          "base_uri": "https://localhost:8080/",
          "height": 263
        },
        "id": "EHtEmhVgMgmD",
        "outputId": "dd198bdd-35ff-4a82-c3f7-b5555a354e0c"
      },
      "outputs": [
        {
          "data": {
            "text/html": [
              "<table class=\"show_images\" style=\"border-spacing:0px;\"><tr><td style=\"padding:1px;\"><img width=\"320\" height=\"240\" style=\"image-rendering:auto; object-fit:cover;\" src=\"data:image/png;base64,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\"/></td></tr></table>"
            ],
            "text/plain": [
              "<IPython.core.display.HTML object>"
            ]
          },
          "metadata": {},
          "output_type": "display_data"
        }
      ],
      "source": [
        "with mujoco.Renderer(m) as renderer:\n",
        "    mujoco.mj_forward(m, d)\n",
        "    renderer.update_scene(d, \"tracking_cam\")\n",
        "\n",
        "    media.show_image(renderer.render())"
      ]
    },
    {
      "cell_type": "code",
      "execution_count": 7,
      "metadata": {
        "colab": {
          "base_uri": "https://localhost:8080/",
          "height": 263
        },
        "id": "XFMmYvUTNEZ8",
        "outputId": "83a2f744-0bd7-4369-a89a-b3689e45bdbb"
      },
      "outputs": [],
      "source": [
        "# duration = 3.8  # (seconds)\n",
        "# framerate = 60  # (Hz)\n",
        "\n",
        "# # Simulate and display video.\n",
        "# frames = []\n",
        "# mujoco.mj_resetData(m, d)  # Reset state and time.\n",
        "# with mujoco.Renderer(m) as renderer:\n",
        "#     while d.time < duration:\n",
        "#         mujoco.mj_step(m, d)\n",
        "#         if len(frames) < d.time * framerate:\n",
        "#             renderer.update_scene(d, \"tracking_cam\")\n",
        "#             pixels = renderer.render()\n",
        "#             frames.append(pixels)\n",
        "\n",
        "# media.show_video(frames, fps=framerate)"
      ]
    },
    {
      "cell_type": "code",
      "execution_count": 8,
      "metadata": {
        "id": "JCllD0ShObXZ"
      },
      "outputs": [],
      "source": [
        "import gym\n",
        "import numpy as np\n",
        "from types import SimpleNamespace as sn # For convenient indexing"
      ]
    },
    {
      "cell_type": "code",
      "execution_count": 9,
      "metadata": {
        "id": "VUZaUuq4iY-g"
      },
      "outputs": [],
      "source": [
        "def quaternion_to_euler(q):\n",
        "    # Extract components\n",
        "    w, x, y, z = q\n",
        "\n",
        "    # Conversion\n",
        "    t0 = +2.0 * (w * x + y * z)\n",
        "    t1 = +1.0 - 2.0 * (x * x + y * y)\n",
        "    roll_x = np.arctan2(t0, t1)\n",
        "\n",
        "    t2 = +2.0 * (w * y - z * x)\n",
        "    t2 = +1.0 if t2 > +1.0 else t2\n",
        "    t2 = -1.0 if t2 < -1.0 else t2\n",
        "    pitch_y = np.arcsin(t2)\n",
        "\n",
        "    t3 = +2.0 * (w * z + x * y)\n",
        "    t4 = +1.0 - 2.0 * (y * y + z * z)\n",
        "    yaw_z = np.arctan2(t3, t4)\n",
        "\n",
        "    return roll_x, pitch_y, yaw_z"
      ]
    },
    {
      "cell_type": "code",
      "execution_count": 13,
      "metadata": {
        "colab": {
          "base_uri": "https://localhost:8080/",
          "height": 109
        },
        "id": "08UsPp9eQrGf",
        "outputId": "43974676-3dd3-4686-f964-9f9f78ea5bcb"
      },
      "outputs": [],
      "source": [
        "class BasisEnv(gym.Env):\n",
        "    state_vars = sn(**{\"x\": 0, \"theta\": 1, \"x_dot\": 2, \"theta_dot\": 3, \"len\": 4})\n",
        "\n",
        "    action_to_torque = 1.0\n",
        "    theta_threshold = np.pi / 2\n",
        "\n",
        "    model = mujoco.MjModel.from_xml_string(model_xml)\n",
        "    data  = mujoco.MjData(model)\n",
        "    renderer = mujoco.Renderer(model)\n",
        "\n",
        "    metadata = {\"render_modes\": [\"human\", \"rgb_array\"], \"render_fps\": 24}\n",
        "    frames = []\n",
        "    max_frames = 100\n",
        "\n",
        "    def __init__(self, render_mode = None, episode_step_count=100):\n",
        "        self.action_space = gym.spaces.Box(low=-1, high=1, shape=(2,), dtype=np.float32)\n",
        "\n",
        "        # Angle limit set to 2 * theta_threshold so failing observation is within bounds\n",
        "        obs_max_limit = np.zeros(self.state_vars.len, dtype=np.float32)\n",
        "        obs_max_limit[self.state_vars.x]         = np.finfo(np.float32).max\n",
        "        obs_max_limit[self.state_vars.theta]     = self.theta_threshold * 2\n",
        "        obs_max_limit[self.state_vars.x_dot]     = np.finfo(np.float32).max\n",
        "        obs_max_limit[self.state_vars.theta_dot] = np.finfo(np.float32).max\n",
        "\n",
        "        self.observation_space = gym.spaces.Box(low=-obs_max_limit, high=obs_max_limit, dtype=np.float32)\n",
        "\n",
        "        self.state = np.zeros(self.state_vars.len)\n",
        "\n",
        "        self.episode_step_count = episode_step_count\n",
        "        self.remaining_steps = episode_step_count\n",
        "\n",
        "        self.render_mode = render_mode\n",
        "\n",
        "    def step(self, action):\n",
        "\n",
        "        self.remaining_steps -= 1\n",
        "\n",
        "        # Apply action and update sim and state\n",
        "        self.apply_torque(action)\n",
        "        self.step_physics()\n",
        "        self.update_state()\n",
        "\n",
        "        # Check if termination condition(s) are met\n",
        "        terminated = bool((self.remaining_steps <= 0) or (self.state_out_of_bounds()))\n",
        "\n",
        "        # Compute reward\n",
        "        reward = self.compute_reward()\n",
        "\n",
        "        # Compute observation\n",
        "        observation = self.observe() # TODO: Add noise\n",
        "\n",
        "        # Render\n",
        "        if self.render_mode == \"human\":\n",
        "            frame = self.render()\n",
        "            # media.show_image(frame)\n",
        "            if len(self.frames) < self.max_frames:\n",
        "                self.frames.append(frame)\n",
        "\n",
        "        return observation, reward, terminated, False, {}\n",
        "\n",
        "\n",
        "    def render(self):\n",
        "        renderer.update_scene(d, \"tracking_cam\")\n",
        "        pixels = renderer.render()\n",
        "\n",
        "        print(\"In renderer\")\n",
        "        return pixels\n",
        "\n",
        "    def reset(self, seed=None):\n",
        "        #### HUGE TODO!!! VERY IMPORTANT TO DO ASAP\n",
        "        #### NEED TO RESET THE MUJOCO MODEL!\n",
        "        super().reset(seed=seed)\n",
        "        self.state[self.state_vars.x] = 0\n",
        "        self.state[self.state_vars.theta] = 0\n",
        "        self.state[self.state_vars.x_dot] = 0\n",
        "        self.state[self.state_vars.theta_dot] = 0\n",
        "\n",
        "        self.remaining_steps = self.episode_step_count\n",
        "\n",
        "        return self.observe(), {}\n",
        "\n",
        "\n",
        "    def apply_torque(self, action):\n",
        "        self.data.ctrl = action * self.action_to_torque\n",
        "\n",
        "    def step_physics(self):\n",
        "        mujoco.mj_step(self.model, self.data)\n",
        "\n",
        "    def update_state(self):\n",
        "        x = self.data.sensor('wheel_pos').data[0]\n",
        "        theta = quaternion_to_euler(self.data.sensor('angle_sensor').data)[1]\n",
        "        x_dot = self.data.sensor('wheel_vel').data[0]\n",
        "        theta_dot = d.sensor('base_ang_velocity').data[1]\n",
        "\n",
        "        self.state[self.state_vars.x] = x\n",
        "        self.state[self.state_vars.theta] = theta\n",
        "        self.state[self.state_vars.x_dot] = x_dot\n",
        "        self.state[self.state_vars.theta_dot] = theta_dot\n",
        "\n",
        "    def state_out_of_bounds(self):\n",
        "        return abs(self.state[self.state_vars.theta]) > self.theta_threshold\n",
        "\n",
        "    def compute_reward(self):\n",
        "        x_penalty_weight = 0.1\n",
        "        x_setpoint = 0.0\n",
        "        x_penalty = abs(x_setpoint - self.state[self.state_vars.x]) * x_penalty_weight\n",
        "\n",
        "        alive_reward = 1.0\n",
        "\n",
        "        return alive_reward - x_penalty\n",
        "\n",
        "    def observe(self):\n",
        "        # TODO: Add noise later\n",
        "        return self.state\n"
      ]
    },
    {
      "cell_type": "code",
      "execution_count": 11,
      "metadata": {
        "colab": {
          "base_uri": "https://localhost:8080/"
        },
        "id": "MX3du31SQ24f",
        "outputId": "0099c096-0ef0-4050-8cbc-31dc4236e74f"
      },
      "outputs": [
        {
          "name": "stdout",
          "output_type": "stream",
          "text": [
            "Action space: Box(-1.0, 1.0, (2,), float32)\n",
            "Observation space: Box([-3.4028235e+38 -3.1415927e+00 -3.4028235e+38 -3.4028235e+38], [3.4028235e+38 3.1415927e+00 3.4028235e+38 3.4028235e+38], (4,), float32)\n"
          ]
        }
      ],
      "source": [
        "# env = gym.make('CartPole-v1', new_step_api=True)\n",
        "env = BasisEnv(render_mode=\"rgb_array\")\n",
        "print(f\"Action space: {env.action_space}\")\n",
        "print(f\"Observation space: {env.observation_space}\")"
      ]
    },
    {
      "cell_type": "code",
      "execution_count": 12,
      "metadata": {},
      "outputs": [
        {
          "ename": "ModuleNotFoundError",
          "evalue": "No module named 'gymnasium.wrappers.monitoring'",
          "output_type": "error",
          "traceback": [
            "\u001b[1;31m---------------------------------------------------------------------------\u001b[0m",
            "\u001b[1;31mModuleNotFoundError\u001b[0m                       Traceback (most recent call last)",
            "Cell \u001b[1;32mIn[12], line 1\u001b[0m\n\u001b[1;32m----> 1\u001b[0m \u001b[38;5;28;01mfrom\u001b[39;00m \u001b[38;5;21;01mstable_baselines3\u001b[39;00m \u001b[38;5;28;01mimport\u001b[39;00m SAC\n\u001b[0;32m      3\u001b[0m model \u001b[38;5;241m=\u001b[39m SAC(\u001b[38;5;124m\"\u001b[39m\u001b[38;5;124mMlpPolicy\u001b[39m\u001b[38;5;124m\"\u001b[39m, env, verbose\u001b[38;5;241m=\u001b[39m\u001b[38;5;241m1\u001b[39m, device\u001b[38;5;241m=\u001b[39m\u001b[38;5;124m\"\u001b[39m\u001b[38;5;124mcpu\u001b[39m\u001b[38;5;124m\"\u001b[39m)\n\u001b[0;32m      4\u001b[0m model\u001b[38;5;241m.\u001b[39mlearn(total_timesteps\u001b[38;5;241m=\u001b[39m\u001b[38;5;241m100\u001b[39m, log_interval\u001b[38;5;241m=\u001b[39m\u001b[38;5;241m4\u001b[39m)\n",
            "File \u001b[1;32m~\\AppData\\Local\\Packages\\PythonSoftwareFoundation.Python.3.12_qbz5n2kfra8p0\\LocalCache\\local-packages\\Python312\\site-packages\\stable_baselines3\\__init__.py:3\u001b[0m\n\u001b[0;32m      1\u001b[0m \u001b[38;5;28;01mimport\u001b[39;00m \u001b[38;5;21;01mos\u001b[39;00m\n\u001b[1;32m----> 3\u001b[0m \u001b[38;5;28;01mfrom\u001b[39;00m \u001b[38;5;21;01mstable_baselines3\u001b[39;00m\u001b[38;5;21;01m.\u001b[39;00m\u001b[38;5;21;01ma2c\u001b[39;00m \u001b[38;5;28;01mimport\u001b[39;00m A2C\n\u001b[0;32m      4\u001b[0m \u001b[38;5;28;01mfrom\u001b[39;00m \u001b[38;5;21;01mstable_baselines3\u001b[39;00m\u001b[38;5;21;01m.\u001b[39;00m\u001b[38;5;21;01mcommon\u001b[39;00m\u001b[38;5;21;01m.\u001b[39;00m\u001b[38;5;21;01mutils\u001b[39;00m \u001b[38;5;28;01mimport\u001b[39;00m get_system_info\n\u001b[0;32m      5\u001b[0m \u001b[38;5;28;01mfrom\u001b[39;00m \u001b[38;5;21;01mstable_baselines3\u001b[39;00m\u001b[38;5;21;01m.\u001b[39;00m\u001b[38;5;21;01mddpg\u001b[39;00m \u001b[38;5;28;01mimport\u001b[39;00m DDPG\n",
            "File \u001b[1;32m~\\AppData\\Local\\Packages\\PythonSoftwareFoundation.Python.3.12_qbz5n2kfra8p0\\LocalCache\\local-packages\\Python312\\site-packages\\stable_baselines3\\a2c\\__init__.py:1\u001b[0m\n\u001b[1;32m----> 1\u001b[0m \u001b[38;5;28;01mfrom\u001b[39;00m \u001b[38;5;21;01mstable_baselines3\u001b[39;00m\u001b[38;5;21;01m.\u001b[39;00m\u001b[38;5;21;01ma2c\u001b[39;00m\u001b[38;5;21;01m.\u001b[39;00m\u001b[38;5;21;01ma2c\u001b[39;00m \u001b[38;5;28;01mimport\u001b[39;00m A2C\n\u001b[0;32m      2\u001b[0m \u001b[38;5;28;01mfrom\u001b[39;00m \u001b[38;5;21;01mstable_baselines3\u001b[39;00m\u001b[38;5;21;01m.\u001b[39;00m\u001b[38;5;21;01ma2c\u001b[39;00m\u001b[38;5;21;01m.\u001b[39;00m\u001b[38;5;21;01mpolicies\u001b[39;00m \u001b[38;5;28;01mimport\u001b[39;00m CnnPolicy, MlpPolicy, MultiInputPolicy\n\u001b[0;32m      4\u001b[0m __all__ \u001b[38;5;241m=\u001b[39m [\u001b[38;5;124m\"\u001b[39m\u001b[38;5;124mCnnPolicy\u001b[39m\u001b[38;5;124m\"\u001b[39m, \u001b[38;5;124m\"\u001b[39m\u001b[38;5;124mMlpPolicy\u001b[39m\u001b[38;5;124m\"\u001b[39m, \u001b[38;5;124m\"\u001b[39m\u001b[38;5;124mMultiInputPolicy\u001b[39m\u001b[38;5;124m\"\u001b[39m, \u001b[38;5;124m\"\u001b[39m\u001b[38;5;124mA2C\u001b[39m\u001b[38;5;124m\"\u001b[39m]\n",
            "File \u001b[1;32m~\\AppData\\Local\\Packages\\PythonSoftwareFoundation.Python.3.12_qbz5n2kfra8p0\\LocalCache\\local-packages\\Python312\\site-packages\\stable_baselines3\\a2c\\a2c.py:7\u001b[0m\n\u001b[0;32m      4\u001b[0m \u001b[38;5;28;01mfrom\u001b[39;00m \u001b[38;5;21;01mgymnasium\u001b[39;00m \u001b[38;5;28;01mimport\u001b[39;00m spaces\n\u001b[0;32m      5\u001b[0m \u001b[38;5;28;01mfrom\u001b[39;00m \u001b[38;5;21;01mtorch\u001b[39;00m\u001b[38;5;21;01m.\u001b[39;00m\u001b[38;5;21;01mnn\u001b[39;00m \u001b[38;5;28;01mimport\u001b[39;00m functional \u001b[38;5;28;01mas\u001b[39;00m F\n\u001b[1;32m----> 7\u001b[0m \u001b[38;5;28;01mfrom\u001b[39;00m \u001b[38;5;21;01mstable_baselines3\u001b[39;00m\u001b[38;5;21;01m.\u001b[39;00m\u001b[38;5;21;01mcommon\u001b[39;00m\u001b[38;5;21;01m.\u001b[39;00m\u001b[38;5;21;01mbuffers\u001b[39;00m \u001b[38;5;28;01mimport\u001b[39;00m RolloutBuffer\n\u001b[0;32m      8\u001b[0m \u001b[38;5;28;01mfrom\u001b[39;00m \u001b[38;5;21;01mstable_baselines3\u001b[39;00m\u001b[38;5;21;01m.\u001b[39;00m\u001b[38;5;21;01mcommon\u001b[39;00m\u001b[38;5;21;01m.\u001b[39;00m\u001b[38;5;21;01mon_policy_algorithm\u001b[39;00m \u001b[38;5;28;01mimport\u001b[39;00m OnPolicyAlgorithm\n\u001b[0;32m      9\u001b[0m \u001b[38;5;28;01mfrom\u001b[39;00m \u001b[38;5;21;01mstable_baselines3\u001b[39;00m\u001b[38;5;21;01m.\u001b[39;00m\u001b[38;5;21;01mcommon\u001b[39;00m\u001b[38;5;21;01m.\u001b[39;00m\u001b[38;5;21;01mpolicies\u001b[39;00m \u001b[38;5;28;01mimport\u001b[39;00m ActorCriticCnnPolicy, ActorCriticPolicy, BasePolicy, MultiInputActorCriticPolicy\n",
            "File \u001b[1;32m~\\AppData\\Local\\Packages\\PythonSoftwareFoundation.Python.3.12_qbz5n2kfra8p0\\LocalCache\\local-packages\\Python312\\site-packages\\stable_baselines3\\common\\buffers.py:17\u001b[0m\n\u001b[0;32m     10\u001b[0m \u001b[38;5;28;01mfrom\u001b[39;00m \u001b[38;5;21;01mstable_baselines3\u001b[39;00m\u001b[38;5;21;01m.\u001b[39;00m\u001b[38;5;21;01mcommon\u001b[39;00m\u001b[38;5;21;01m.\u001b[39;00m\u001b[38;5;21;01mtype_aliases\u001b[39;00m \u001b[38;5;28;01mimport\u001b[39;00m (\n\u001b[0;32m     11\u001b[0m     DictReplayBufferSamples,\n\u001b[0;32m     12\u001b[0m     DictRolloutBufferSamples,\n\u001b[0;32m     13\u001b[0m     ReplayBufferSamples,\n\u001b[0;32m     14\u001b[0m     RolloutBufferSamples,\n\u001b[0;32m     15\u001b[0m )\n\u001b[0;32m     16\u001b[0m \u001b[38;5;28;01mfrom\u001b[39;00m \u001b[38;5;21;01mstable_baselines3\u001b[39;00m\u001b[38;5;21;01m.\u001b[39;00m\u001b[38;5;21;01mcommon\u001b[39;00m\u001b[38;5;21;01m.\u001b[39;00m\u001b[38;5;21;01mutils\u001b[39;00m \u001b[38;5;28;01mimport\u001b[39;00m get_device\n\u001b[1;32m---> 17\u001b[0m \u001b[38;5;28;01mfrom\u001b[39;00m \u001b[38;5;21;01mstable_baselines3\u001b[39;00m\u001b[38;5;21;01m.\u001b[39;00m\u001b[38;5;21;01mcommon\u001b[39;00m\u001b[38;5;21;01m.\u001b[39;00m\u001b[38;5;21;01mvec_env\u001b[39;00m \u001b[38;5;28;01mimport\u001b[39;00m VecNormalize\n\u001b[0;32m     19\u001b[0m \u001b[38;5;28;01mtry\u001b[39;00m:\n\u001b[0;32m     20\u001b[0m     \u001b[38;5;66;03m# Check memory used by replay buffer when possible\u001b[39;00m\n\u001b[0;32m     21\u001b[0m     \u001b[38;5;28;01mimport\u001b[39;00m \u001b[38;5;21;01mpsutil\u001b[39;00m\n",
            "File \u001b[1;32m~\\AppData\\Local\\Packages\\PythonSoftwareFoundation.Python.3.12_qbz5n2kfra8p0\\LocalCache\\local-packages\\Python312\\site-packages\\stable_baselines3\\common\\vec_env\\__init__.py:14\u001b[0m\n\u001b[0;32m     12\u001b[0m \u001b[38;5;28;01mfrom\u001b[39;00m \u001b[38;5;21;01mstable_baselines3\u001b[39;00m\u001b[38;5;21;01m.\u001b[39;00m\u001b[38;5;21;01mcommon\u001b[39;00m\u001b[38;5;21;01m.\u001b[39;00m\u001b[38;5;21;01mvec_env\u001b[39;00m\u001b[38;5;21;01m.\u001b[39;00m\u001b[38;5;21;01mvec_normalize\u001b[39;00m \u001b[38;5;28;01mimport\u001b[39;00m VecNormalize\n\u001b[0;32m     13\u001b[0m \u001b[38;5;28;01mfrom\u001b[39;00m \u001b[38;5;21;01mstable_baselines3\u001b[39;00m\u001b[38;5;21;01m.\u001b[39;00m\u001b[38;5;21;01mcommon\u001b[39;00m\u001b[38;5;21;01m.\u001b[39;00m\u001b[38;5;21;01mvec_env\u001b[39;00m\u001b[38;5;21;01m.\u001b[39;00m\u001b[38;5;21;01mvec_transpose\u001b[39;00m \u001b[38;5;28;01mimport\u001b[39;00m VecTransposeImage\n\u001b[1;32m---> 14\u001b[0m \u001b[38;5;28;01mfrom\u001b[39;00m \u001b[38;5;21;01mstable_baselines3\u001b[39;00m\u001b[38;5;21;01m.\u001b[39;00m\u001b[38;5;21;01mcommon\u001b[39;00m\u001b[38;5;21;01m.\u001b[39;00m\u001b[38;5;21;01mvec_env\u001b[39;00m\u001b[38;5;21;01m.\u001b[39;00m\u001b[38;5;21;01mvec_video_recorder\u001b[39;00m \u001b[38;5;28;01mimport\u001b[39;00m VecVideoRecorder\n\u001b[0;32m     16\u001b[0m VecEnvWrapperT \u001b[38;5;241m=\u001b[39m TypeVar(\u001b[38;5;124m\"\u001b[39m\u001b[38;5;124mVecEnvWrapperT\u001b[39m\u001b[38;5;124m\"\u001b[39m, bound\u001b[38;5;241m=\u001b[39mVecEnvWrapper)\n\u001b[0;32m     19\u001b[0m \u001b[38;5;28;01mdef\u001b[39;00m \u001b[38;5;21munwrap_vec_wrapper\u001b[39m(env: VecEnv, vec_wrapper_class: Type[VecEnvWrapperT]) \u001b[38;5;241m-\u001b[39m\u001b[38;5;241m>\u001b[39m Optional[VecEnvWrapperT]:\n",
            "File \u001b[1;32m~\\AppData\\Local\\Packages\\PythonSoftwareFoundation.Python.3.12_qbz5n2kfra8p0\\LocalCache\\local-packages\\Python312\\site-packages\\stable_baselines3\\common\\vec_env\\vec_video_recorder.py:4\u001b[0m\n\u001b[0;32m      1\u001b[0m \u001b[38;5;28;01mimport\u001b[39;00m \u001b[38;5;21;01mos\u001b[39;00m\n\u001b[0;32m      2\u001b[0m \u001b[38;5;28;01mfrom\u001b[39;00m \u001b[38;5;21;01mtyping\u001b[39;00m \u001b[38;5;28;01mimport\u001b[39;00m Callable\n\u001b[1;32m----> 4\u001b[0m \u001b[38;5;28;01mfrom\u001b[39;00m \u001b[38;5;21;01mgymnasium\u001b[39;00m\u001b[38;5;21;01m.\u001b[39;00m\u001b[38;5;21;01mwrappers\u001b[39;00m\u001b[38;5;21;01m.\u001b[39;00m\u001b[38;5;21;01mmonitoring\u001b[39;00m \u001b[38;5;28;01mimport\u001b[39;00m video_recorder\n\u001b[0;32m      6\u001b[0m \u001b[38;5;28;01mfrom\u001b[39;00m \u001b[38;5;21;01mstable_baselines3\u001b[39;00m\u001b[38;5;21;01m.\u001b[39;00m\u001b[38;5;21;01mcommon\u001b[39;00m\u001b[38;5;21;01m.\u001b[39;00m\u001b[38;5;21;01mvec_env\u001b[39;00m\u001b[38;5;21;01m.\u001b[39;00m\u001b[38;5;21;01mbase_vec_env\u001b[39;00m \u001b[38;5;28;01mimport\u001b[39;00m VecEnv, VecEnvObs, VecEnvStepReturn, VecEnvWrapper\n\u001b[0;32m      7\u001b[0m \u001b[38;5;28;01mfrom\u001b[39;00m \u001b[38;5;21;01mstable_baselines3\u001b[39;00m\u001b[38;5;21;01m.\u001b[39;00m\u001b[38;5;21;01mcommon\u001b[39;00m\u001b[38;5;21;01m.\u001b[39;00m\u001b[38;5;21;01mvec_env\u001b[39;00m\u001b[38;5;21;01m.\u001b[39;00m\u001b[38;5;21;01mdummy_vec_env\u001b[39;00m \u001b[38;5;28;01mimport\u001b[39;00m DummyVecEnv\n",
            "\u001b[1;31mModuleNotFoundError\u001b[0m: No module named 'gymnasium.wrappers.monitoring'"
          ]
        }
      ],
      "source": [
        "from stable_baselines3 import SAC\n",
        "\n",
        "model = SAC(\"MlpPolicy\", env, verbose=1, device=\"cpu\")\n",
        "model.learn(total_timesteps=100, log_interval=4)\n",
        "model.save(\"./models/sac_basis\")\n",
        "\n",
        "# del model # remove to demonstrate saving and loading\n"
      ]
    },
    {
      "cell_type": "code",
      "execution_count": null,
      "metadata": {},
      "outputs": [],
      "source": [
        "# Load the model\n",
        "model = SAC.load(\"./models/sac_basis\")\n",
        "\n",
        "obs, info = env.reset()\n",
        "while True:\n",
        "    action, _states = model.predict(obs, deterministic=True)\n",
        "    obs, reward, terminated, truncated, info = env.step(action)\n",
        "    if terminated or truncated:\n",
        "        obs, info = env.reset()"
      ]
    },
    {
      "cell_type": "code",
      "execution_count": null,
      "metadata": {},
      "outputs": [],
      "source": []
    }
  ],
  "metadata": {
    "accelerator": "GPU",
    "colab": {
      "gpuType": "T4",
      "provenance": []
    },
    "kernelspec": {
      "display_name": "Python 3",
      "name": "python3"
    },
    "language_info": {
      "codemirror_mode": {
        "name": "ipython",
        "version": 3
      },
      "file_extension": ".py",
      "mimetype": "text/x-python",
      "name": "python",
      "nbconvert_exporter": "python",
      "pygments_lexer": "ipython3",
      "version": "3.12.4"
    }
  },
  "nbformat": 4,
  "nbformat_minor": 0
}
